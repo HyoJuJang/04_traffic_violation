{
 "cells": [
  {
   "cell_type": "markdown",
   "id": "08751b21",
   "metadata": {},
   "source": [
    "# JSON 확인 과정"
   ]
  },
  {
   "cell_type": "code",
   "execution_count": 1,
   "id": "517d8fcd",
   "metadata": {},
   "outputs": [],
   "source": [
    "#-*- coding: EUC-KR -*-\n",
    "\n",
    "%matplotlib inline \n",
    "\n",
    "import numpy as np \n",
    "import pandas as pd\n",
    "import skimage.io as io \n",
    "import matplotlib.pyplot as plt \n",
    "import pylab \n",
    "import json\n",
    "from tqdm import tqdm\n",
    "import glob\n",
    "import os\n",
    "import cv2\n",
    "\n",
    "pylab.rcParams['figure.figsize'] = (8.0, 10.0)\n",
    "\n",
    "rootpath = \"D:/F1soft 120해커톤\""
   ]
  },
  {
   "cell_type": "code",
   "execution_count": 2,
   "id": "43a9e194",
   "metadata": {},
   "outputs": [],
   "source": [
    "# row 생략 없이 출력\n",
    "pd.set_option('display.max_rows', None)\n",
    "# col 생략 없이 출력\n",
    "pd.set_option('display.max_columns', None)"
   ]
  },
  {
   "cell_type": "code",
   "execution_count": 3,
   "id": "eeb023de",
   "metadata": {},
   "outputs": [],
   "source": [
    "train_json_list = [] \n",
    "\n",
    "for (path, dir, files) in os.walk(rootpath):\n",
    "    for filename in files:\n",
    "        ext = os.path.splitext(filename)[-1]\n",
    "        if ext == '.json':\n",
    "            full=path+'/'+filename\n",
    "            train_json_list.append(full)"
   ]
  },
  {
   "cell_type": "code",
   "execution_count": 4,
   "id": "7133a572",
   "metadata": {},
   "outputs": [],
   "source": [
    "train_mp4_list = [] \n",
    "\n",
    "for (path, dir, files) in os.walk(rootpath):\n",
    "    for filename in files:\n",
    "        ext = os.path.splitext(filename)[-1]\n",
    "        if ext == '.mp4':\n",
    "            full=path+'/'+filename\n",
    "            train_mp4_list.append(full)"
   ]
  },
  {
   "cell_type": "code",
   "execution_count": 5,
   "id": "35077d0d",
   "metadata": {},
   "outputs": [],
   "source": [
    "json_data_list=[]\n",
    "mp4_fps_list=[]\n",
    "mp4_framecnt_list=[]"
   ]
  },
  {
   "cell_type": "code",
   "execution_count": 6,
   "id": "36bd3b00",
   "metadata": {},
   "outputs": [
    {
     "name": "stderr",
     "output_type": "stream",
     "text": [
      "100%|████████████████████████████████████████████████████████████████████████████████| 355/355 [00:38<00:00,  9.24it/s]\n"
     ]
    }
   ],
   "source": [
    "for anno in tqdm(train_json_list): # annotation.json 파일 읽어들이기\n",
    "    with open(anno, encoding='utf-8') as json_file:\n",
    "        json_data_list.append(json.load(json_file))\n"
   ]
  },
  {
   "cell_type": "code",
   "execution_count": 7,
   "id": "f8f9cb65",
   "metadata": {},
   "outputs": [
    {
     "name": "stderr",
     "output_type": "stream",
     "text": [
      "100%|████████████████████████████████████████████████████████████████████████████████| 355/355 [00:23<00:00, 14.79it/s]\n"
     ]
    }
   ],
   "source": [
    "for vid_info in tqdm(train_mp4_list): # annotation.mp4 파일 읽어들이기\n",
    "    cap = cv2.VideoCapture(vid_info) \n",
    "    codec = cv2.VideoWriter_fourcc(*'XVID')\n",
    "    vid_size = (round(cap.get(cv2.CAP_PROP_FRAME_WIDTH)),round(cap.get(cv2.CAP_PROP_FRAME_HEIGHT)))\n",
    "    vid_fps = cap.get(cv2.CAP_PROP_FPS )\n",
    "    frame_cnt = int(cap.get(cv2.CAP_PROP_FRAME_COUNT))    \n",
    "    mp4_fps_list.append(vid_fps)\n",
    "    mp4_framecnt_list.append(frame_cnt) "
   ]
  },
  {
   "cell_type": "markdown",
   "id": "03b32f7d",
   "metadata": {},
   "source": [
    "# 원본 영상과 json 파일 프레임 일치 확인"
   ]
  },
  {
   "cell_type": "code",
   "execution_count": 8,
   "id": "899ddd6f",
   "metadata": {},
   "outputs": [],
   "source": [
    "frame_check_df=pd.DataFrame(columns=['vid','annotation'])\n",
    "\n",
    "frame_check_df=pd.DataFrame()\n",
    "\n",
    "for i in range(len(mp4_framecnt_list)):\n",
    "    made_row=pd.DataFrame([mp4_framecnt_list[i],len(json_data_list[i]['annotations']['anno_info'])]).T\n",
    "    frame_check_df=pd.concat([frame_check_df,made_row],axis=0)\n",
    "    \n",
    "frame_check_df.reset_index(drop=True,inplace=True)\n",
    "frame_check_df.rename(columns={0:'vid',1:'annotation'},inplace= True)"
   ]
  },
  {
   "cell_type": "code",
   "execution_count": 9,
   "id": "67ab8640",
   "metadata": {},
   "outputs": [],
   "source": [
    "frame_check_df['nomatch'] = frame_check_df.apply(lambda x: x['annotation']-x['vid'],axis=1)"
   ]
  },
  {
   "cell_type": "code",
   "execution_count": 10,
   "id": "ec8cbda8",
   "metadata": {},
   "outputs": [],
   "source": [
    "frame_check_df['json'] = train_json_list"
   ]
  },
  {
   "cell_type": "code",
   "execution_count": 11,
   "id": "c4eef2d6",
   "metadata": {},
   "outputs": [],
   "source": [
    "frame_check_df['mp4'] = train_mp4_list"
   ]
  },
  {
   "cell_type": "code",
   "execution_count": 15,
   "id": "48d0f96c",
   "metadata": {},
   "outputs": [],
   "source": [
    "good_fps=frame_check_df[(frame_check_df['nomatch']<=10) & (frame_check_df['nomatch']>=0)] # 0,5,6"
   ]
  },
  {
   "cell_type": "code",
   "execution_count": 19,
   "id": "5f119810",
   "metadata": {},
   "outputs": [],
   "source": [
    "bad_fps=frame_check_df[(frame_check_df['nomatch']>10) | (frame_check_df['nomatch']<0)] # 0,5,6"
   ]
  },
  {
   "cell_type": "code",
   "execution_count": 24,
   "id": "9bac05f7",
   "metadata": {
    "scrolled": false
   },
   "outputs": [],
   "source": [
    "bad_list=[]\n",
    "bad_list=bad_fps['mp4'].to_list()"
   ]
  },
  {
   "cell_type": "code",
   "execution_count": 27,
   "id": "57bdb786",
   "metadata": {},
   "outputs": [],
   "source": [
    "sort_bad_list=[]\n",
    "for i in bad_list:\n",
    "    sort_bad_list.append(i.split('/')[-1])"
   ]
  },
  {
   "cell_type": "code",
   "execution_count": 132,
   "id": "6bcbac80",
   "metadata": {},
   "outputs": [],
   "source": [
    "train_json_list=good_fps['json'].to_list()\n",
    "train_mp4_list=good_fps['mp4'].to_list()"
   ]
  },
  {
   "cell_type": "code",
   "execution_count": 187,
   "id": "ee51b4b7",
   "metadata": {},
   "outputs": [],
   "source": [
    "train_json_list.remove('D:/F1soft 120해커톤\\\\2 동승자 탑승 위반\\\\2 킥보드\\\\1 위반/T002628_000_1_2_2.json')\n",
    "train_mp4_list.remove('D:/F1soft 120해커톤\\\\2 동승자 탑승 위반\\\\2 킥보드\\\\1 위반/T002628_000_1_2_2.mp4')"
   ]
  },
  {
   "cell_type": "code",
   "execution_count": 134,
   "id": "aabf15e7",
   "metadata": {},
   "outputs": [
    {
     "name": "stderr",
     "output_type": "stream",
     "text": [
      "100%|████████████████████████████████████████████████████████████████████████████████| 255/255 [00:23<00:00, 10.68it/s]\n"
     ]
    }
   ],
   "source": [
    "for anno in tqdm(train_json_list): # annotation.json 파일 읽어들이기\n",
    "    with open(anno, encoding='utf-8') as json_file:\n",
    "        json_data_list.append(json.load(json_file))\n"
   ]
  },
  {
   "cell_type": "markdown",
   "id": "78164b61",
   "metadata": {},
   "source": [
    "# 객체 빈도 수 데이터프레임 생성 "
   ]
  },
  {
   "cell_type": "code",
   "execution_count": 135,
   "id": "4b5c570a",
   "metadata": {},
   "outputs": [],
   "source": [
    "def getTypeName(dic):\n",
    "    '''\n",
    "    Parameters:\n",
    "    -----------\n",
    "    dic: result of readJSON\n",
    "    \n",
    "    Returns:\n",
    "    --------\n",
    "    pd.DataFrame\n",
    "        dataframe with image_id as index and number of each objects contained in the image as values\n",
    "    '''\n",
    "    \n",
    "    output = {}\n",
    "    image_id = dic['info']['video_id']+'_'+dic['info']['clip_id']\n",
    "    \n",
    "    for i in range(len(dic['annotations']['anno_info'])):\n",
    "        for j in range(len(dic['annotations']['anno_info'][i]['frame_annotation'])):\n",
    "            type_name = dic['annotations']['anno_info'][i]['frame_annotation'][j]['category_name']\n",
    "\n",
    "            if output.get(type_name) == None :\n",
    "                output[type_name] = 1\n",
    "\n",
    "            else :\n",
    "                output[type_name] += 1\n",
    "    \n",
    "    for i in dic['description']:\n",
    "        type_name=i\n",
    "        output[i]=dic['description'][i]\n",
    "    \n",
    "    \n",
    "    return pd.DataFrame(output, index = [image_id])"
   ]
  },
  {
   "cell_type": "code",
   "execution_count": 136,
   "id": "5aa524f6",
   "metadata": {},
   "outputs": [
    {
     "name": "stderr",
     "output_type": "stream",
     "text": [
      "100%|███████████████████████████████████████████████████████████████████████████████| 255/255 [00:01<00:00, 160.71it/s]"
     ]
    },
    {
     "name": "stdout",
     "output_type": "stream",
     "text": [
      "Wall time: 1.59 s\n"
     ]
    },
    {
     "name": "stderr",
     "output_type": "stream",
     "text": [
      "\n"
     ]
    }
   ],
   "source": [
    "%%time\n",
    "\n",
    "total_df = pd.DataFrame()\n",
    "\n",
    "for path in tqdm(json_data_list):\n",
    "    \n",
    "    total_df = pd.concat([total_df, getTypeName(path)], axis = 0, join = 'outer')\n",
    "    \n",
    "total_df.fillna(0, inplace = True)"
   ]
  },
  {
   "cell_type": "code",
   "execution_count": 54,
   "id": "449dae17",
   "metadata": {},
   "outputs": [],
   "source": [
    "cate_name=total_df.columns"
   ]
  },
  {
   "cell_type": "code",
   "execution_count": 60,
   "id": "ef9d8d0c",
   "metadata": {},
   "outputs": [],
   "source": [
    "list_category=[]\n",
    "\n",
    "for i,j in zip(cate_id,cate_name):\n",
    "    if i not in ['violation','PM','violation_type','duration']:\n",
    "        list_category.append([i,j])"
   ]
  },
  {
   "cell_type": "code",
   "execution_count": 62,
   "id": "31c58766",
   "metadata": {
    "collapsed": true
   },
   "outputs": [
    {
     "data": {
      "text/plain": [
       "[['3', '02_자전거 겸용_01_인도_01_도로유형'],\n",
       " ['2', '01_일반_01_인도_01_도로유형'],\n",
       " ['6', '05_일반 차로_02_차도_01_도로유형'],\n",
       " ['18', '17_직진_05_노면표시_02_노면유형'],\n",
       " ['17', '16_자전거 전용도로_05_노면표시_02_노면유형'],\n",
       " ['132', '61_자전거표지판_위반_06_표지판_03_도로 시설물'],\n",
       " ['56', '55_자전거탑승자_09_Rider_04_이동체'],\n",
       " ['55', '54_오토바이탑승자_09_Rider_04_이동체'],\n",
       " ['22', '21_직진 및 우회전_05_노면표시_02_노면유형'],\n",
       " ['19', '18_좌회전_05_노면표시_02_노면유형'],\n",
       " ['8', '07_안전지대_03_차선_02_노면유형'],\n",
       " ['7', '06_중앙차선_03_차선_02_노면유형'],\n",
       " ['33', '32_직진 및 좌회전_06_표지판_03_도로 시설물'],\n",
       " ['4', '03_횡단보도_01_인도_01_도로유형'],\n",
       " ['9', '08_정지선_04_정지선_02_노면유형'],\n",
       " ['126', '56_킥보드탑승자_위반_09_Rider_04_이동체'],\n",
       " ['5', '04_자전거 전용도로_02_차도_01_도로유형'],\n",
       " ['54', '53_킥보드_08_PM_04_이동체'],\n",
       " ['20', '19_우회전_05_노면표시_02_노면유형'],\n",
       " ['46', '45_보행자 신호등(적색)_07_신호등_03_도로 시설물'],\n",
       " ['43', '42_비보호좌회전_06_표지판_03_도로 시설물'],\n",
       " ['47', '46_차량 신호등 원형등화(녹색)_07_신호등_03_도로 시설물'],\n",
       " ['53', '52_자전거_08_PM_04_이동체'],\n",
       " ['131', '61_자전거표지판_06_표지판_03_도로 시설물'],\n",
       " ['21', '20_직진 및 좌회전_05_노면표시_02_노면유형'],\n",
       " ['125', '55_자전거탑승자_위반_09_Rider_04_이동체'],\n",
       " ['49', '48_차량 신호등 원형등화(적색)_07_신호등_03_도로 시설물'],\n",
       " ['70', '01_일반_위반_01_인도_01_도로유형'],\n",
       " ['24', '23_좌회전 및 유턴_05_노면표시_02_노면유형'],\n",
       " ['57', '56_킥보드탑승자_09_Rider_04_이동체'],\n",
       " ['78', '08_정지선_위반_04_정지선_02_노면유형'],\n",
       " ['62', '1_보행자도로 통행 위반_11_위반_05_위반유형'],\n",
       " ['50', '49_차량 신호등 직좌_07_신호등_03_도로 시설물'],\n",
       " ['48', '47_차량 신호등 원형등화(황색)_07_신호등_03_도로 시설물'],\n",
       " ['45', '44_보행자 신호등(녹색)_07_신호등_03_도로 시설물'],\n",
       " ['127', '57_킥보드동승자탑승_위반_09_Rider_04_이동체'],\n",
       " ['76', '06_중앙차선_위반_03_차선_02_노면유형'],\n",
       " ['75', '05_일반 차로_위반_02_차도_01_도로유형'],\n",
       " ['11', '10_좌회전 금지_05_노면표시_02_노면유형'],\n",
       " ['13', '12_직진 및 좌회전 금지_05_노면표시_02_노면유형'],\n",
       " ['124', '54_오토바이탑승자_위반_09_Rider_04_이동체'],\n",
       " ['25', '24_차로변경(좌로합류)_05_노면표시_02_노면유형'],\n",
       " ['64', '3_안전모 미착용위반_11_위반_05_위반유형'],\n",
       " ['60', '59_자전거캐리어_10_Carrier_04_이동체'],\n",
       " ['73', '03_횡단보도_위반_01_인도_01_도로유형'],\n",
       " ['61', '60_킥보드캐리어_10_Carrier_04_이동체'],\n",
       " ['52', '51_오토바이_08_PM_04_이동체'],\n",
       " ['115', '45_보행자 신호등(적색)_위반_07_신호등_03_도로 시설물'],\n",
       " ['74', '04_자전거 전용도로_위반_02_차도_01_도로유형'],\n",
       " ['66', '5_횡단보도 주행 위반_11_위반_05_위반유형'],\n",
       " ['118', '48_차량 신호등 원형등화(적색)_위반_07_신호등_03_도로 시설물'],\n",
       " ['123', '53_킥보드_위반_08_PM_04_이동체'],\n",
       " ['69', '8_정지선 위반_11_위반_05_위반유형'],\n",
       " ['31', '30_좌회전_06_표지판_03_도로 시설물'],\n",
       " ['51', '50_차량 신호등 좌회전 _07_신호등_03_도로 시설물'],\n",
       " ['27', '26_유턴_06_표지판_03_도로 시설물'],\n",
       " ['30', '29_우회전_06_표지판_03_도로 시설물']]"
      ]
     },
     "execution_count": 62,
     "metadata": {},
     "output_type": "execute_result"
    }
   ],
   "source": [
    "sdict = sorted(list_category,key = lambda x : int(x[0]))\n"
   ]
  },
  {
   "cell_type": "code",
   "execution_count": 1,
   "id": "ac446fe2",
   "metadata": {},
   "outputs": [],
   "source": [
    "ca_id_list=[]"
   ]
  },
  {
   "cell_type": "code",
   "execution_count": 36,
   "id": "3ae54051",
   "metadata": {
    "scrolled": true
   },
   "outputs": [],
   "source": [
    "for i,num in zip(sdict,range(len(sdict))):\n",
    "    ca_id_list.append(int(i[0]))"
   ]
  },
  {
   "cell_type": "code",
   "execution_count": 57,
   "id": "86e2e6d5",
   "metadata": {},
   "outputs": [],
   "source": [
    "import pickle\n",
    "\n",
    "with open (\"D:/category_id_name\", \"wb\") as file:\n",
    "    pickle.dump(sdict, file)"
   ]
  },
  {
   "cell_type": "code",
   "execution_count": 148,
   "id": "00aaf7a1",
   "metadata": {},
   "outputs": [],
   "source": [
    "train_json_list = [] \n",
    "\n",
    "for (path, dir, files) in os.walk(rootpath):\n",
    "    for filename in files:\n",
    "        ext = os.path.splitext(filename)[-1]\n",
    "        if ext == '.json':\n",
    "            full=path+'/'+filename\n",
    "            train_json_list.append(full)"
   ]
  }
 ],
 "metadata": {
  "kernelspec": {
   "display_name": "Python 3",
   "language": "python",
   "name": "python3"
  },
  "language_info": {
   "codemirror_mode": {
    "name": "ipython",
    "version": 3
   },
   "file_extension": ".py",
   "mimetype": "text/x-python",
   "name": "python",
   "nbconvert_exporter": "python",
   "pygments_lexer": "ipython3",
   "version": "3.8.8"
  }
 },
 "nbformat": 4,
 "nbformat_minor": 5
}
