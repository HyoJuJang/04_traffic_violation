{
 "cells": [
  {
   "cell_type": "markdown",
   "metadata": {},
   "source": [
    "# object 파일 학습"
   ]
  },
  {
   "cell_type": "markdown",
   "metadata": {},
   "source": [
    "## 모듈, path 설정"
   ]
  },
  {
   "cell_type": "code",
   "execution_count": 23,
   "metadata": {},
   "outputs": [],
   "source": [
    "from glob import glob\n",
    "from sklearn.model_selection import train_test_split\n",
    "import yaml\n",
    "import os\n",
    "import pandas as pd\n",
    "import tensorflow as tf\n",
    "import torch"
   ]
  },
  {
   "cell_type": "code",
   "execution_count": null,
   "metadata": {},
   "outputs": [],
   "source": []
  },
  {
   "cell_type": "code",
   "execution_count": 9,
   "metadata": {},
   "outputs": [],
   "source": [
    "train_img_list = glob('E:/new_file/images/train/*.jpg')"
   ]
  },
  {
   "cell_type": "code",
   "execution_count": 10,
   "metadata": {},
   "outputs": [],
   "source": [
    "val_img_list = glob('E:/new_file/images/valid/*.jpg')"
   ]
  },
  {
   "cell_type": "code",
   "execution_count": null,
   "metadata": {},
   "outputs": [],
   "source": []
  },
  {
   "cell_type": "code",
   "execution_count": 12,
   "metadata": {},
   "outputs": [],
   "source": [
    "import os\n",
    "os.chdir('C:/Users/82103/' + \"yolov5\")\n",
    "\n",
    "import yolov5"
   ]
  },
  {
   "cell_type": "code",
   "execution_count": 13,
   "metadata": {},
   "outputs": [],
   "source": [
    "# 이미지 이름에 맞는 텍스트 데이터 설정해주기\n",
    "with open('E:/new_file/train.txt', 'w') as f:\n",
    "    f.write('\\n'.join(train_img_list) + '\\n')\n",
    "\n",
    "with open('E:/new_file/val.txt', 'w') as f:\n",
    "    f.write('\\n'.join(val_img_list) + '\\n')"
   ]
  },
  {
   "cell_type": "code",
   "execution_count": null,
   "metadata": {},
   "outputs": [],
   "source": []
  },
  {
   "cell_type": "code",
   "execution_count": 14,
   "metadata": {},
   "outputs": [],
   "source": [
    "data = {}"
   ]
  },
  {
   "cell_type": "code",
   "execution_count": 17,
   "metadata": {},
   "outputs": [],
   "source": [
    "data['train'] = 'E:/new_file/train.txt'\n",
    "data['val'] = 'E:/new_file/val.txt'"
   ]
  },
  {
   "cell_type": "code",
   "execution_count": 18,
   "metadata": {},
   "outputs": [],
   "source": [
    "data['nc']=17\n",
    "\n",
    "data['names']=['p_sign_green','p_sign_red','v_sign_green','v_sign_yellow',\n",
    "'v_sign_red','v_sign_sl','v_sign_l','motor','byc','kickb','motor_r','byc_r','kickb_r','byc_c','kickb_c','kickb_many','pedestrian']"
   ]
  },
  {
   "cell_type": "code",
   "execution_count": 19,
   "metadata": {},
   "outputs": [
    {
     "name": "stdout",
     "output_type": "stream",
     "text": [
      "{'train': 'E:/new_file/train.txt', 'val': 'E:/new_file/val.txt', 'nc': 17, 'names': ['p_sign_green', 'p_sign_red', 'v_sign_green', 'v_sign_yellow', 'v_sign_red', 'v_sign_sl', 'v_sign_l', 'motor', 'byc', 'kickb', 'motor_r', 'byc_r', 'kickb_r', 'byc_c', 'kickb_c', 'kickb_many', 'pedestrian']}\n"
     ]
    }
   ],
   "source": [
    "with open('C:/Users/82103/yolov5/data.yaml', 'w') as f:\n",
    "    yaml.dump(data,f)\n",
    "\n",
    "print(data)"
   ]
  },
  {
   "cell_type": "code",
   "execution_count": null,
   "metadata": {},
   "outputs": [],
   "source": []
  },
  {
   "cell_type": "code",
   "execution_count": 1,
   "metadata": {},
   "outputs": [
    {
     "data": {
      "text/plain": [
       "True"
      ]
     },
     "execution_count": 1,
     "metadata": {},
     "output_type": "execute_result"
    }
   ],
   "source": [
    "# pytorch gpu 사용법\n",
    "import torch\n",
    "torch.cuda.is_available()"
   ]
  },
  {
   "cell_type": "code",
   "execution_count": 35,
   "metadata": {},
   "outputs": [],
   "source": [
    "import os\n",
    "os.chdir('C:/Users/82103/' + \"yolov5/\" + 'Yolov5_DeepSort_Pytorch')\n",
    "\n",
    "import yolov5"
   ]
  },
  {
   "cell_type": "code",
   "execution_count": 36,
   "metadata": {},
   "outputs": [
    {
     "name": "stderr",
     "output_type": "stream",
     "text": [
      "YOLOv5  v6.0-111-g94d8fec torch 1.10.0 CUDA:0 (NVIDIA GeForce GTX 1650, 4096MiB)\n"
     ]
    },
    {
     "name": "stdout",
     "output_type": "stream",
     "text": [
      "Setup complete \n"
     ]
    }
   ],
   "source": [
    "from yolov5 import utils\n",
    "display = utils.notebook_init()  # checks"
   ]
  },
  {
   "cell_type": "code",
   "execution_count": null,
   "metadata": {},
   "outputs": [],
   "source": [
    "!python train.py --img 640 --batch 8 --epochs 6 --data C:/Users/82103/yolov5/data.yaml --cfg C:/Users/82103/yolov5/models/yolov5s.yaml --weights yolov5s.pt --name test1212_yolov5s_object_results --device 0"
   ]
  },
  {
   "cell_type": "code",
   "execution_count": 4,
   "metadata": {},
   "outputs": [
    {
     "name": "stdout",
     "output_type": "stream",
     "text": [
      "^C\n"
     ]
    }
   ],
   "source": [
    "!python detect.py --weights E:/best_weights/object_best.pt --img 640 --conf 0.4 --source E:/도로교통공단\\대용량데이터/PM사고위험영상데이터/횡단보도주행위반_5/자전거/정상/"
   ]
  },
  {
   "cell_type": "code",
   "execution_count": 69,
   "metadata": {},
   "outputs": [
    {
     "name": "stdout",
     "output_type": "stream",
     "text": [
      "Submodule path 'yolov5': checked out 'd885799c713e578082704c103c3a0b3796f7d10a'\n"
     ]
    },
    {
     "name": "stderr",
     "output_type": "stream",
     "text": [
      "Cloning into 'Yolov5_DeepSort_Pytorch'...\n",
      "Submodule 'yolov5' (https://github.com/ultralytics/yolov5.git) registered for path 'yolov5'\n",
      "Cloning into 'C:/Users/82103/Yolov5_DeepSort_Pytorch/Yolov5_DeepSort_Pytorch/yolov5'...\n"
     ]
    }
   ],
   "source": [
    "!git clone --recurse-submodules https://github.com/mikel-brostrom/Yolov5_DeepSort_Pytorch.git"
   ]
  },
  {
   "cell_type": "code",
   "execution_count": 70,
   "metadata": {},
   "outputs": [
    {
     "name": "stdout",
     "output_type": "stream",
     "text": [
      "Requirement already satisfied: matplotlib>=3.2.2 in c:\\users\\82103\\anaconda3\\lib\\site-packages (from -r requirements.txt (line 5)) (3.3.4)\n",
      "Requirement already satisfied: numpy>=1.18.5 in c:\\users\\82103\\anaconda3\\lib\\site-packages (from -r requirements.txt (line 6)) (1.18.5)\n",
      "Requirement already satisfied: opencv-python>=4.1.2 in c:\\users\\82103\\anaconda3\\lib\\site-packages (from -r requirements.txt (line 7)) (4.5.4.60)\n",
      "Requirement already satisfied: Pillow>=7.1.2 in c:\\users\\82103\\anaconda3\\lib\\site-packages (from -r requirements.txt (line 8)) (8.2.0)\n",
      "Requirement already satisfied: PyYAML>=5.3.1 in c:\\users\\82103\\anaconda3\\lib\\site-packages (from -r requirements.txt (line 9)) (5.4.1)\n",
      "Requirement already satisfied: requests>=2.23.0 in c:\\users\\82103\\anaconda3\\lib\\site-packages (from -r requirements.txt (line 10)) (2.25.1)\n",
      "Requirement already satisfied: scipy>=1.4.1 in c:\\users\\82103\\anaconda3\\lib\\site-packages (from -r requirements.txt (line 11)) (1.4.1)\n",
      "Requirement already satisfied: torch>=1.7.0 in c:\\users\\82103\\anaconda3\\lib\\site-packages (from -r requirements.txt (line 12)) (1.10.0)\n",
      "Requirement already satisfied: torchvision>=0.8.1 in c:\\users\\82103\\anaconda3\\lib\\site-packages (from -r requirements.txt (line 13)) (0.11.1)\n",
      "Requirement already satisfied: tqdm>=4.41.0 in c:\\users\\82103\\anaconda3\\lib\\site-packages (from -r requirements.txt (line 14)) (4.59.0)\n",
      "Requirement already satisfied: pandas>=1.1.4 in c:\\users\\82103\\anaconda3\\lib\\site-packages (from -r requirements.txt (line 18)) (1.2.4)\n",
      "Requirement already satisfied: seaborn>=0.11.0 in c:\\users\\82103\\anaconda3\\lib\\site-packages (from -r requirements.txt (line 19)) (0.11.1)\n",
      "Requirement already satisfied: easydict in c:\\users\\82103\\anaconda3\\lib\\site-packages (from -r requirements.txt (line 23)) (1.9)\n",
      "Requirement already satisfied: kiwisolver>=1.0.1 in c:\\users\\82103\\anaconda3\\lib\\site-packages (from matplotlib>=3.2.2->-r requirements.txt (line 5)) (1.3.1)\n",
      "Requirement already satisfied: pyparsing!=2.0.4,!=2.1.2,!=2.1.6,>=2.0.3 in c:\\users\\82103\\anaconda3\\lib\\site-packages (from matplotlib>=3.2.2->-r requirements.txt (line 5)) (2.4.7)\n",
      "Requirement already satisfied: python-dateutil>=2.1 in c:\\users\\82103\\anaconda3\\lib\\site-packages (from matplotlib>=3.2.2->-r requirements.txt (line 5)) (2.8.1)\n",
      "Requirement already satisfied: cycler>=0.10 in c:\\users\\82103\\anaconda3\\lib\\site-packages (from matplotlib>=3.2.2->-r requirements.txt (line 5)) (0.10.0)\n",
      "Requirement already satisfied: chardet<5,>=3.0.2 in c:\\users\\82103\\anaconda3\\lib\\site-packages (from requests>=2.23.0->-r requirements.txt (line 10)) (4.0.0)\n",
      "Requirement already satisfied: certifi>=2017.4.17 in c:\\users\\82103\\anaconda3\\lib\\site-packages (from requests>=2.23.0->-r requirements.txt (line 10)) (2020.12.5)\n",
      "Requirement already satisfied: idna<3,>=2.5 in c:\\users\\82103\\anaconda3\\lib\\site-packages (from requests>=2.23.0->-r requirements.txt (line 10)) (2.10)\n",
      "Requirement already satisfied: urllib3<1.27,>=1.21.1 in c:\\users\\82103\\anaconda3\\lib\\site-packages (from requests>=2.23.0->-r requirements.txt (line 10)) (1.26.4)\n",
      "Requirement already satisfied: typing_extensions in c:\\users\\82103\\anaconda3\\lib\\site-packages (from torch>=1.7.0->-r requirements.txt (line 12)) (3.7.4.3)\n",
      "Requirement already satisfied: pytz>=2017.3 in c:\\users\\82103\\anaconda3\\lib\\site-packages (from pandas>=1.1.4->-r requirements.txt (line 18)) (2021.1)\n",
      "Requirement already satisfied: six in c:\\users\\82103\\anaconda3\\lib\\site-packages (from cycler>=0.10->matplotlib>=3.2.2->-r requirements.txt (line 5)) (1.15.0)\n"
     ]
    }
   ],
   "source": [
    "os.chdir(\"C:/Users/82103/Yolov5_DeepSort_Pytorch/\")\n",
    "!pip install -r requirements.txt"
   ]
  },
  {
   "cell_type": "code",
   "execution_count": null,
   "metadata": {},
   "outputs": [],
   "source": [
    "!python track2.py --yolo_weights E:/best_weights/object_best.pt --img 640 --conf-thres 0.4 --source E:/sol_video/train_1fps/ --save-txt --output hel_new_train --save-vid"
   ]
  }
 ],
 "metadata": {
  "kernelspec": {
   "display_name": "Python 3",
   "language": "python",
   "name": "python3"
  },
  "language_info": {
   "codemirror_mode": {
    "name": "ipython",
    "version": 3
   },
   "file_extension": ".py",
   "mimetype": "text/x-python",
   "name": "python",
   "nbconvert_exporter": "python",
   "pygments_lexer": "ipython3",
   "version": "3.8.8"
  }
 },
 "nbformat": 4,
 "nbformat_minor": 4
}
