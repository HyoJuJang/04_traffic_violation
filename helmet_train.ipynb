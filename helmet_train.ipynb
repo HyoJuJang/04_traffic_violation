{
 "cells": [
  {
   "cell_type": "code",
   "execution_count": null,
   "metadata": {
    "id": "pt76PCg9BJKs"
   },
   "outputs": [],
   "source": [
    "# # yolov5 폴더 생성\n",
    "# % cd /content/drive/MyDrive/proj_traffic\n",
    "# !git clone https://github.com/ultralytics/yolov5\n",
    "# # yolov5 설치\n",
    "# % cd yolov5/\n",
    "# !pip install -r requirements.txt\n",
    "# # 경로 재위치\n",
    "# % cd .."
   ]
  },
  {
   "cell_type": "code",
   "execution_count": null,
   "metadata": {
    "colab": {
     "base_uri": "https://localhost:8080/"
    },
    "id": "43daEEXPBHwE",
    "outputId": "95902f48-52a0-489b-ab5b-d52938bd7134"
   },
   "outputs": [
    {
     "name": "stdout",
     "output_type": "stream",
     "text": [
      "/content/drive/.shortcut-targets-by-id/1OaUhkEShiJYpNLo0SEHsIjCoctNmch5Q/proj_traffic\n"
     ]
    }
   ],
   "source": [
    "% cd ./proj_traffic"
   ]
  },
  {
   "cell_type": "code",
   "execution_count": null,
   "metadata": {
    "id": "tMd3P7GEBKS9"
   },
   "outputs": [],
   "source": [
    "from glob import glob\n",
    "from sklearn.model_selection import train_test_split\n",
    "import yaml\n",
    "import os"
   ]
  },
  {
   "cell_type": "code",
   "execution_count": null,
   "metadata": {
    "id": "Qjd7ICFbBLCN"
   },
   "outputs": [],
   "source": [
    "image_list = []\n",
    "image_path = './proj_traffic/helmet/images/train/'\n",
    "\n",
    "for (path, dir, files) in os.walk(image_path):\n",
    "    for filename in files:\n",
    "        ext = os.path.splitext(filename)[-1]\n",
    "        if ext in ['.png', '.jpg']:\n",
    "            image_list.append(filename)"
   ]
  },
  {
   "cell_type": "code",
   "execution_count": null,
   "metadata": {
    "id": "LvjTy0jU_9I9"
   },
   "outputs": [],
   "source": [
    "label_list = []\n",
    "label_path = '/content/drive/MyDrive/proj_traffic/helmet/labels/train/'\n",
    "\n",
    "for (path, dir, files) in os.walk(label_path):\n",
    "    for filename in files:\n",
    "    ext = os.path.splitext(filename)[-1]\n",
    "    if ext == '.txt':\n",
    "label_list.append(filename)"
   ]
  },
  {
   "cell_type": "code",
   "execution_count": null,
   "metadata": {
    "id": "Qsa_6BhL-IqH"
   },
   "outputs": [],
   "source": [
    "img_list = []\n",
    "img_path = '/content/drive/MyDrive/proj_traffic/helmet/images/val/'\n",
    "\n",
    "for (path, dir, files) in os.walk(img_path):\n",
    "    for filename in files:\n",
    "    ext = os.path.splitext(filename)[-1]\n",
    "    if ext in ['.png', '.jpg']:\n",
    "        img_list.append(filename)"
   ]
  },
  {
   "cell_type": "code",
   "execution_count": null,
   "metadata": {
    "id": "1lg5zijUBqME"
   },
   "outputs": [],
   "source": [
    "lb_list = []\n",
    "lb_path = '/content/drive/MyDrive/proj_traffic/helmet/labels/val/'\n",
    "\n",
    "for (path, dir, files) in os.walk(lb_path):\n",
    "    for filename in files:\n",
    "    ext = os.path.splitext(filename)[-1]\n",
    "    if ext == '.txt':\n",
    "        lb_list.append(filename)"
   ]
  },
  {
   "cell_type": "code",
   "execution_count": null,
   "metadata": {
    "id": "V_Zz3YEIrW7w"
   },
   "outputs": [],
   "source": [
    "ntbc = [x for x in label_list if not x.startswith('Bikes')]"
   ]
  },
  {
   "cell_type": "code",
   "execution_count": null,
   "metadata": {
    "id": "cIjuMgxirW5q"
   },
   "outputs": [],
   "source": [
    "strings = []\n",
    "for name in ntbc:\n",
    "    with open('/content/drive/MyDrive/proj_traffic/helmet/labels/train/' + name) as f:\n",
    "        strings.append(f.readlines())"
   ]
  },
  {
   "cell_type": "code",
   "execution_count": null,
   "metadata": {
    "id": "6HfH3h1e8Ry3"
   },
   "outputs": [],
   "source": []
  },
  {
   "cell_type": "code",
   "execution_count": null,
   "metadata": {
    "id": "kybd35so6x8w"
   },
   "outputs": [],
   "source": [
    "train_list = ['/content/drive/MyDrive/proj_traffic/helmet/images/train/' + x for x in image_list]"
   ]
  },
  {
   "cell_type": "code",
   "execution_count": null,
   "metadata": {
    "id": "yCEo9PYE8bjP"
   },
   "outputs": [],
   "source": [
    "valid_list = ['/content/drive/MyDrive/proj_traffic/helmet/images/val/' + x for x in img_list]"
   ]
  },
  {
   "cell_type": "code",
   "execution_count": null,
   "metadata": {
    "id": "Lm-p1Z6XrWzZ"
   },
   "outputs": [],
   "source": [
    "with open('/content/drive/MyDrive/proj_traffic/helmet/train.txt', 'w') as f:\n",
    "    f.write('\\n'.join(train_list) + '\\n')\n",
    "\n",
    "with open('/content/drive/MyDrive/proj_traffic/helmet/val.txt', 'w') as f:\n",
    "    f.write('\\n'.join(valid_list) + '\\n')"
   ]
  },
  {
   "cell_type": "code",
   "execution_count": null,
   "metadata": {
    "colab": {
     "base_uri": "https://localhost:8080/"
    },
    "id": "EpQ-GDfk8ymK",
    "outputId": "13212492-57da-4d5a-a31c-e4a09713827e",
    "scrolled": true
   },
   "outputs": [
    {
     "name": "stdout",
     "output_type": "stream",
     "text": [
      "{'lr0': 0.01, 'lrf': 0.1, 'momentum': 0.937, 'weight_decay': 0.0005, 'warmup_epochs': 3.0, 'warmup_momentum': 0.8, 'warmup_bias_lr': 0.1, 'box': 0.05, 'cls': 0.5, 'cls_pw': 1.0, 'obj': 1.0, 'obj_pw': 1.0, 'iou_t': 0.2, 'anchor_t': 4.0, 'fl_gamma': 0.0, 'hsv_h': 0.015, 'hsv_s': 0.7, 'hsv_v': 0.4, 'degrees': 0.0, 'translate': 0.1, 'scale': 0.5, 'shear': 0.0, 'perspective': 0.0, 'flipud': 0.0, 'fliplr': 0.5, 'mosaic': 1.0, 'mixup': 0.0, 'copy_paste': 0.0}\n"
     ]
    }
   ],
   "source": [
    "with open('/content/drive/MyDrive/proj_traffic/hyp_scratch.yaml', 'r') as f:\n",
    "    data = yaml.load(f)\n",
    "\n",
    "print(data)"
   ]
  },
  {
   "cell_type": "code",
   "execution_count": null,
   "metadata": {
    "id": "XCFuL1Ka9bkR"
   },
   "outputs": [],
   "source": [
    "with open('/content/drive/MyDrive/proj_traffic/helmet/data.yaml', 'r') as f:\n",
    "    data = yaml.load(f)"
   ]
  },
  {
   "cell_type": "code",
   "execution_count": null,
   "metadata": {
    "colab": {
     "base_uri": "https://localhost:8080/"
    },
    "id": "JAwhByVv8yi4",
    "outputId": "327874dd-9d8d-41cf-b0c4-ea7be9d86bd8"
   },
   "outputs": [
    {
     "name": "stdout",
     "output_type": "stream",
     "text": [
      "{'anchor_t': 4.0, 'box': 0.05, 'cls': 0.5, 'cls_pw': 1.0, 'copy_paste': 0.0, 'degrees': 0.0, 'fl_gamma': 0.0, 'fliplr': 0.5, 'flipud': 0.0, 'hsv_h': 0.015, 'hsv_s': 0.7, 'hsv_v': 0.4, 'iou_t': 0.2, 'lr0': 0.01, 'lrf': 0.1, 'mixup': 0.0, 'momentum': 0.937, 'mosaic': 1.0, 'names': ['helmet', 'wohelmet'], 'nc': 2, 'obj': 1.0, 'obj_pw': 1.0, 'perspective': 0.0, 'scale': 0.5, 'shear': 0.0, 'train': '/content/drive/MyDrive/proj_traffic/helmet/train.txt', 'translate': 0.1, 'val': '/content/drive/MyDrive/proj_traffic/helmet/val.txt', 'warmup_bias_lr': 0.1, 'warmup_epochs': 3.0, 'warmup_momentum': 0.8, 'weight_decay': 0.0005}\n"
     ]
    }
   ],
   "source": [
    "data['train'] = './proj_traffic/helmet/train.txt'\n",
    "data['val'] = './proj_traffic/helmet/val.txt'\n",
    "\n",
    "data['names'] = ['helmet','wohelmet']\n",
    "data['nc'] = 2\n",
    "\n",
    "with open('./proj_traffic/helmet/data.yaml', 'w') as f:\n",
    "    yaml.dump(data,f)\n",
    "\n",
    "print(data)"
   ]
  },
  {
   "cell_type": "code",
   "execution_count": 25,
   "metadata": {
    "colab": {
     "base_uri": "https://localhost:8080/"
    },
    "id": "ONSBDxmY-bCw",
    "outputId": "7ce1bac8-56f3-4e63-9ab2-479d86bfbc9a"
   },
   "outputs": [
    {
     "name": "stdout",
     "output_type": "stream",
     "text": [
      "/content/drive/.shortcut-targets-by-id/1OaUhkEShiJYpNLo0SEHsIjCoctNmch5Q/proj_traffic\n"
     ]
    }
   ],
   "source": [
    "% cd ./proj_traffic"
   ]
  },
  {
   "cell_type": "code",
   "execution_count": 27,
   "metadata": {
    "colab": {
     "base_uri": "https://localhost:8080/"
    },
    "id": "S2p_fgNd-o60",
    "outputId": "ed27cb86-8a4b-4e20-b25a-97db54d4b1e4"
   },
   "outputs": [
    {
     "name": "stdout",
     "output_type": "stream",
     "text": [
      "/content/drive/.shortcut-targets-by-id/1OaUhkEShiJYpNLo0SEHsIjCoctNmch5Q/proj_traffic/yolov5\n"
     ]
    }
   ],
   "source": [
    "% cd ./proj_traffic/yolov5"
   ]
  },
  {
   "cell_type": "code",
   "execution_count": 26,
   "metadata": {
    "colab": {
     "base_uri": "https://localhost:8080/"
    },
    "id": "MQkp-AIh8ygn",
    "outputId": "26c4042f-a0e7-44ef-a0ec-b7c8d11f44ed"
   },
   "outputs": [
    {
     "name": "stderr",
     "output_type": "stream",
     "text": [
      "YOLOv5 🚀 v6.0-108-g53349da torch 1.10.0+cu111 CUDA:0 (Tesla K80, 11441MiB)\n"
     ]
    },
    {
     "name": "stdout",
     "output_type": "stream",
     "text": [
      "Setup complete ✅\n"
     ]
    }
   ],
   "source": [
    "from yolov5 import utils\n",
    "display = utils.notebook_init()  # checks"
   ]
  },
  {
   "cell_type": "code",
   "execution_count": 28,
   "metadata": {
    "colab": {
     "base_uri": "https://localhost:8080/"
    },
    "id": "Q8-cyFm3rWpi",
    "outputId": "57a91dc5-1eed-4581-e7d2-62b3bc2f9f16"
   },
   "outputs": [
    {
     "name": "stdout",
     "output_type": "stream",
     "text": [
      "\u001b[34m\u001b[1mtrain: \u001b[0mweights=yolov5l.pt, cfg=/content/drive/MyDrive/proj_traffic/yolov5/models/yolov5l.yaml, data=/content/drive/MyDrive/proj_traffic/helmet/data.yaml, hyp=data/hyps/hyp.scratch.yaml, epochs=30, batch_size=16, imgsz=640, rect=False, resume=False, nosave=False, noval=False, noautoanchor=False, evolve=None, bucket=, cache=None, image_weights=False, device=0, multi_scale=False, single_cls=False, adam=False, sync_bn=False, workers=8, project=runs/train, name=hel_results2, exist_ok=False, quad=False, linear_lr=False, label_smoothing=0.0, patience=100, freeze=0, save_period=-1, local_rank=-1, entity=None, upload_dataset=False, bbox_interval=-1, artifact_alias=latest\n",
      "\u001b[34m\u001b[1mgithub: \u001b[0m⚠️ YOLOv5 is out of date by 32 commits. Use `git pull` or `git clone https://github.com/ultralytics/yolov5` to update.\n",
      "YOLOv5 🚀 v6.0-108-g53349da torch 1.10.0+cu111 CUDA:0 (Tesla K80, 11441MiB)\n",
      "\n",
      "\u001b[34m\u001b[1mhyperparameters: \u001b[0mlr0=0.01, lrf=0.1, momentum=0.937, weight_decay=0.0005, warmup_epochs=3.0, warmup_momentum=0.8, warmup_bias_lr=0.1, box=0.05, cls=0.5, cls_pw=1.0, obj=1.0, obj_pw=1.0, iou_t=0.2, anchor_t=4.0, fl_gamma=0.0, hsv_h=0.015, hsv_s=0.7, hsv_v=0.4, degrees=0.0, translate=0.1, scale=0.5, shear=0.0, perspective=0.0, flipud=0.0, fliplr=0.5, mosaic=1.0, mixup=0.0, copy_paste=0.0\n",
      "\u001b[34m\u001b[1mWeights & Biases: \u001b[0mrun 'pip install wandb' to automatically track and visualize YOLOv5 🚀 runs (RECOMMENDED)\n",
      "\u001b[34m\u001b[1mTensorBoard: \u001b[0mStart with 'tensorboard --logdir runs/train', view at http://localhost:6006/\n",
      "Overriding model.yaml nc=80 with nc=2\n",
      "\n",
      "                 from  n    params  module                                  arguments                     \n",
      "  0                -1  1      7040  models.common.Conv                      [3, 64, 6, 2, 2]              \n",
      "  1                -1  1     73984  models.common.Conv                      [64, 128, 3, 2]               \n",
      "  2                -1  3    156928  models.common.C3                        [128, 128, 3]                 \n",
      "  3                -1  1    295424  models.common.Conv                      [128, 256, 3, 2]              \n",
      "  4                -1  6   1118208  models.common.C3                        [256, 256, 6]                 \n",
      "  5                -1  1   1180672  models.common.Conv                      [256, 512, 3, 2]              \n",
      "  6                -1  9   6433792  models.common.C3                        [512, 512, 9]                 \n",
      "  7                -1  1   4720640  models.common.Conv                      [512, 1024, 3, 2]             \n",
      "  8                -1  3   9971712  models.common.C3                        [1024, 1024, 3]               \n",
      "  9                -1  1   2624512  models.common.SPPF                      [1024, 1024, 5]               \n",
      " 10                -1  1    525312  models.common.Conv                      [1024, 512, 1, 1]             \n",
      " 11                -1  1         0  torch.nn.modules.upsampling.Upsample    [None, 2, 'nearest']          \n",
      " 12           [-1, 6]  1         0  models.common.Concat                    [1]                           \n",
      " 13                -1  3   2757632  models.common.C3                        [1024, 512, 3, False]         \n",
      " 14                -1  1    131584  models.common.Conv                      [512, 256, 1, 1]              \n",
      " 15                -1  1         0  torch.nn.modules.upsampling.Upsample    [None, 2, 'nearest']          \n",
      " 16           [-1, 4]  1         0  models.common.Concat                    [1]                           \n",
      " 17                -1  3    690688  models.common.C3                        [512, 256, 3, False]          \n",
      " 18                -1  1    590336  models.common.Conv                      [256, 256, 3, 2]              \n",
      " 19          [-1, 14]  1         0  models.common.Concat                    [1]                           \n",
      " 20                -1  3   2495488  models.common.C3                        [512, 512, 3, False]          \n",
      " 21                -1  1   2360320  models.common.Conv                      [512, 512, 3, 2]              \n",
      " 22          [-1, 10]  1         0  models.common.Concat                    [1]                           \n",
      " 23                -1  3   9971712  models.common.C3                        [1024, 1024, 3, False]        \n",
      " 24      [17, 20, 23]  1     37695  models.yolo.Detect                      [2, [[10, 13, 16, 30, 33, 23], [30, 61, 62, 45, 59, 119], [116, 90, 156, 198, 373, 326]], [256, 512, 1024]]\n",
      "Model Summary: 468 layers, 46143679 parameters, 46143679 gradients\n",
      "\n",
      "Transferred 463/613 items from yolov5l.pt\n",
      "Scaled weight_decay = 0.0005\n",
      "\u001b[34m\u001b[1moptimizer:\u001b[0m SGD with parameter groups 101 weight, 104 weight (no decay), 104 bias\n",
      "\u001b[34m\u001b[1malbumentations: \u001b[0mversion 1.0.3 required by YOLOv5, but version 0.1.12 is currently installed\n",
      "\u001b[34m\u001b[1mtrain: \u001b[0mScanning '/content/drive/MyDrive/proj_traffic/helmet/train.cache' images and labels... 673 found, 0 missing, 223 empty, 2 corrupted: 100% 673/673 [00:00<?, ?it/s]\n",
      "\u001b[34m\u001b[1mtrain: \u001b[0mWARNING: /content/drive/MyDrive/proj_traffic/helmet/images/val/BikesHelmets343.png: ignoring corrupt image/label: non-normalized or out of bounds coordinates [     682.27       150.5      118.22         107]\n",
      "\u001b[34m\u001b[1mtrain: \u001b[0mWARNING: /content/drive/MyDrive/proj_traffic/helmet/images/val/BikesHelmets530.png: ignoring corrupt image/label: non-normalized or out of bounds coordinates [     313.35      73.996      102.11         116]\n",
      "\u001b[34m\u001b[1mval: \u001b[0mScanning '/content/drive/MyDrive/proj_traffic/helmet/val.cache' images and labels... 673 found, 0 missing, 223 empty, 2 corrupted: 100% 673/673 [00:00<?, ?it/s]\n",
      "\u001b[34m\u001b[1mval: \u001b[0mWARNING: /content/drive/MyDrive/proj_traffic/helmet/images/val/BikesHelmets343.png: ignoring corrupt image/label: non-normalized or out of bounds coordinates [     682.27       150.5      118.22         107]\n",
      "\u001b[34m\u001b[1mval: \u001b[0mWARNING: /content/drive/MyDrive/proj_traffic/helmet/images/val/BikesHelmets530.png: ignoring corrupt image/label: non-normalized or out of bounds coordinates [     313.35      73.996      102.11         116]\n",
      "Plotting labels to runs/train/hel_results24/labels.jpg... \n",
      "\n",
      "\u001b[34m\u001b[1mAutoAnchor: \u001b[0m4.89 anchors/target, 1.000 Best Possible Recall (BPR). Current anchors are a good fit to dataset ✅\n",
      "Image sizes 640 train, 640 val\n",
      "Using 2 dataloader workers\n",
      "Logging results to \u001b[1mruns/train/hel_results24\u001b[0m\n",
      "Starting training for 30 epochs...\n",
      "\n",
      "     Epoch   gpu_mem       box       obj       cls    labels  img_size\n",
      "      0/29     8.89G    0.1102   0.02137   0.02652        17       640: 100% 42/42 [05:27<00:00,  7.80s/it]\n",
      "               Class     Images     Labels          P          R     mAP@.5 mAP@.5:.95: 100% 21/21 [00:45<00:00,  2.16s/it]\n",
      "                 all        671        585   0.000302     0.0757   0.000161   3.66e-05\n",
      "\n",
      "     Epoch   gpu_mem       box       obj       cls    labels  img_size\n",
      "      1/29     9.05G    0.1041   0.01745   0.02385        18       640: 100% 42/42 [03:32<00:00,  5.05s/it]\n",
      "               Class     Images     Labels          P          R     mAP@.5 mAP@.5:.95: 100% 21/21 [00:42<00:00,  2.03s/it]\n",
      "                 all        671        585    0.00035     0.0871   0.000169   4.02e-05\n",
      "\n",
      "     Epoch   gpu_mem       box       obj       cls    labels  img_size\n",
      "      2/29     9.05G    0.1024   0.01545   0.02234        20       640: 100% 42/42 [03:32<00:00,  5.06s/it]\n",
      "               Class     Images     Labels          P          R     mAP@.5 mAP@.5:.95: 100% 21/21 [00:41<00:00,  1.97s/it]\n",
      "                 all        671        585   0.000305     0.0245   0.000131   2.61e-05\n",
      "\n",
      "     Epoch   gpu_mem       box       obj       cls    labels  img_size\n",
      "      3/29     9.05G    0.1009   0.01636   0.02124        22       640: 100% 42/42 [03:31<00:00,  5.05s/it]\n",
      "               Class     Images     Labels          P          R     mAP@.5 mAP@.5:.95: 100% 21/21 [00:40<00:00,  1.95s/it]\n",
      "                 all        671        585    0.00096     0.0245   0.000304   5.93e-05\n",
      "\n",
      "     Epoch   gpu_mem       box       obj       cls    labels  img_size\n",
      "      4/29     9.05G   0.09791   0.01523   0.02115        14       640: 100% 42/42 [03:31<00:00,  5.05s/it]\n",
      "               Class     Images     Labels          P          R     mAP@.5 mAP@.5:.95: 100% 21/21 [00:40<00:00,  1.93s/it]\n",
      "                 all        671        585     0.0016    0.00818   0.000404   8.17e-05\n",
      "\n",
      "     Epoch   gpu_mem       box       obj       cls    labels  img_size\n",
      "      5/29     9.05G   0.09462   0.01567   0.01962        23       640: 100% 42/42 [03:31<00:00,  5.05s/it]\n",
      "               Class     Images     Labels          P          R     mAP@.5 mAP@.5:.95: 100% 21/21 [00:39<00:00,  1.90s/it]\n",
      "                 all        671        585    0.00192     0.0736   0.000787   0.000163\n",
      "\n",
      "     Epoch   gpu_mem       box       obj       cls    labels  img_size\n",
      "      6/29     9.05G   0.09158   0.01624   0.01894        20       640: 100% 42/42 [03:31<00:00,  5.02s/it]\n",
      "               Class     Images     Labels          P          R     mAP@.5 mAP@.5:.95: 100% 21/21 [00:40<00:00,  1.91s/it]\n",
      "                 all        671        585      0.505     0.0133   0.000884   0.000166\n",
      "\n",
      "     Epoch   gpu_mem       box       obj       cls    labels  img_size\n",
      "      7/29     9.05G   0.08528   0.01697   0.01837        22       640: 100% 42/42 [03:32<00:00,  5.05s/it]\n",
      "               Class     Images     Labels          P          R     mAP@.5 mAP@.5:.95: 100% 21/21 [00:40<00:00,  1.91s/it]\n",
      "                 all        671        585      0.513     0.0307    0.00307   0.000728\n",
      "\n",
      "     Epoch   gpu_mem       box       obj       cls    labels  img_size\n",
      "      8/29     9.05G   0.08088   0.01664   0.01729        23       640: 100% 42/42 [03:31<00:00,  5.04s/it]\n",
      "               Class     Images     Labels          P          R     mAP@.5 mAP@.5:.95: 100% 21/21 [00:39<00:00,  1.90s/it]\n",
      "                 all        671        585      0.516     0.0869    0.00999    0.00242\n",
      "\n",
      "     Epoch   gpu_mem       box       obj       cls    labels  img_size\n",
      "      9/29     9.05G   0.07572   0.01773   0.01712        22       640: 100% 42/42 [03:31<00:00,  5.04s/it]\n",
      "               Class     Images     Labels          P          R     mAP@.5 mAP@.5:.95: 100% 21/21 [00:40<00:00,  1.92s/it]\n",
      "                 all        671        585      0.538      0.101      0.018    0.00501\n",
      "\n",
      "     Epoch   gpu_mem       box       obj       cls    labels  img_size\n",
      "     10/29     9.05G   0.07009   0.01817   0.01428        22       640: 100% 42/42 [03:31<00:00,  5.04s/it]\n",
      "               Class     Images     Labels          P          R     mAP@.5 mAP@.5:.95: 100% 21/21 [00:40<00:00,  1.94s/it]\n",
      "                 all        671        585      0.608      0.123     0.0726     0.0195\n",
      "\n",
      "     Epoch   gpu_mem       box       obj       cls    labels  img_size\n",
      "     11/29     9.05G   0.06733   0.01739   0.01624        23       640: 100% 42/42 [03:31<00:00,  5.04s/it]\n",
      "               Class     Images     Labels          P          R     mAP@.5 mAP@.5:.95: 100% 21/21 [00:40<00:00,  1.95s/it]\n",
      "                 all        671        585      0.622     0.0624     0.0449     0.0121\n",
      "\n",
      "     Epoch   gpu_mem       box       obj       cls    labels  img_size\n",
      "     12/29     9.05G   0.06775   0.01684   0.01469        20       640: 100% 42/42 [03:30<00:00,  5.02s/it]\n",
      "               Class     Images     Labels          P          R     mAP@.5 mAP@.5:.95: 100% 21/21 [00:40<00:00,  1.94s/it]\n",
      "                 all        671        585      0.637      0.092     0.0832     0.0228\n",
      "\n",
      "     Epoch   gpu_mem       box       obj       cls    labels  img_size\n",
      "     13/29     9.05G   0.06426   0.01708    0.0145        17       640: 100% 42/42 [03:31<00:00,  5.03s/it]\n",
      "               Class     Images     Labels          P          R     mAP@.5 mAP@.5:.95: 100% 21/21 [00:41<00:00,  1.96s/it]\n",
      "                 all        671        585      0.597      0.222     0.0951     0.0288\n",
      "\n",
      "     Epoch   gpu_mem       box       obj       cls    labels  img_size\n",
      "     14/29     9.05G   0.06313   0.01672   0.01372        25       640: 100% 42/42 [03:31<00:00,  5.03s/it]\n",
      "               Class     Images     Labels          P          R     mAP@.5 mAP@.5:.95: 100% 21/21 [00:40<00:00,  1.93s/it]\n",
      "                 all        671        585      0.692      0.173      0.149     0.0411\n",
      "\n",
      "     Epoch   gpu_mem       box       obj       cls    labels  img_size\n",
      "     15/29     9.05G   0.06164   0.01574   0.01485        12       640: 100% 42/42 [03:31<00:00,  5.03s/it]\n",
      "               Class     Images     Labels          P          R     mAP@.5 mAP@.5:.95: 100% 21/21 [00:40<00:00,  1.93s/it]\n",
      "                 all        671        585      0.724      0.192      0.185      0.062\n",
      "\n",
      "     Epoch   gpu_mem       box       obj       cls    labels  img_size\n",
      "     16/29     9.05G   0.06135   0.01516   0.01245        15       640: 100% 42/42 [03:31<00:00,  5.03s/it]\n",
      "               Class     Images     Labels          P          R     mAP@.5 mAP@.5:.95: 100% 21/21 [00:40<00:00,  1.92s/it]\n",
      "                 all        671        585      0.681      0.225      0.174     0.0595\n",
      "\n",
      "     Epoch   gpu_mem       box       obj       cls    labels  img_size\n",
      "     17/29     9.05G   0.05675   0.01469   0.01223        12       640: 100% 42/42 [03:31<00:00,  5.03s/it]\n",
      "               Class     Images     Labels          P          R     mAP@.5 mAP@.5:.95: 100% 21/21 [00:40<00:00,  1.93s/it]\n",
      "                 all        671        585      0.229      0.273      0.166     0.0644\n",
      "\n",
      "     Epoch   gpu_mem       box       obj       cls    labels  img_size\n",
      "     18/29     9.05G   0.05455   0.01392  0.009277        26       640: 100% 42/42 [03:31<00:00,  5.03s/it]\n",
      "               Class     Images     Labels          P          R     mAP@.5 mAP@.5:.95: 100% 21/21 [00:40<00:00,  1.93s/it]\n",
      "                 all        671        585      0.732      0.241      0.221     0.0714\n",
      "\n",
      "     Epoch   gpu_mem       box       obj       cls    labels  img_size\n",
      "     19/29     9.05G   0.05491   0.01395  0.009978        23       640: 100% 42/42 [03:31<00:00,  5.03s/it]\n",
      "               Class     Images     Labels          P          R     mAP@.5 mAP@.5:.95: 100% 21/21 [00:40<00:00,  1.91s/it]\n",
      "                 all        671        585      0.429      0.406      0.336      0.134\n",
      "\n",
      "     Epoch   gpu_mem       box       obj       cls    labels  img_size\n",
      "     20/29     9.05G   0.05502   0.01425  0.008106        28       640: 100% 42/42 [03:31<00:00,  5.03s/it]\n",
      "               Class     Images     Labels          P          R     mAP@.5 mAP@.5:.95: 100% 21/21 [00:40<00:00,  1.91s/it]\n",
      "                 all        671        585      0.331       0.54      0.402      0.169\n",
      "\n",
      "     Epoch   gpu_mem       box       obj       cls    labels  img_size\n",
      "     21/29     9.05G   0.05421   0.01322  0.009042        14       640: 100% 42/42 [03:30<00:00,  5.02s/it]\n",
      "               Class     Images     Labels          P          R     mAP@.5 mAP@.5:.95: 100% 21/21 [00:40<00:00,  1.92s/it]\n",
      "                 all        671        585      0.326      0.453      0.366      0.158\n",
      "\n",
      "     Epoch   gpu_mem       box       obj       cls    labels  img_size\n",
      "     22/29     9.05G   0.04988   0.01381  0.007785        28       640: 100% 42/42 [03:31<00:00,  5.03s/it]\n",
      "               Class     Images     Labels          P          R     mAP@.5 mAP@.5:.95: 100% 21/21 [00:40<00:00,  1.91s/it]\n",
      "                 all        671        585      0.464      0.526      0.493      0.231\n",
      "\n",
      "     Epoch   gpu_mem       box       obj       cls    labels  img_size\n",
      "     23/29     9.05G   0.04936    0.0127  0.006156        26       640: 100% 42/42 [03:31<00:00,  5.03s/it]\n",
      "               Class     Images     Labels          P          R     mAP@.5 mAP@.5:.95: 100% 21/21 [00:39<00:00,  1.90s/it]\n",
      "                 all        671        585      0.535      0.636      0.551      0.245\n",
      "\n",
      "     Epoch   gpu_mem       box       obj       cls    labels  img_size\n",
      "     24/29     9.05G   0.04907   0.01192  0.006391        31       640: 100% 42/42 [03:31<00:00,  5.03s/it]\n",
      "               Class     Images     Labels          P          R     mAP@.5 mAP@.5:.95: 100% 21/21 [00:40<00:00,  1.92s/it]\n",
      "                 all        671        585       0.58      0.624      0.579      0.258\n",
      "\n",
      "     Epoch   gpu_mem       box       obj       cls    labels  img_size\n",
      "     25/29     9.05G   0.04827   0.01147  0.004673        25       640: 100% 42/42 [03:31<00:00,  5.03s/it]\n",
      "               Class     Images     Labels          P          R     mAP@.5 mAP@.5:.95: 100% 21/21 [00:40<00:00,  1.91s/it]\n",
      "                 all        671        585      0.552      0.489      0.428      0.177\n",
      "\n",
      "     Epoch   gpu_mem       box       obj       cls    labels  img_size\n",
      "     26/29     9.05G   0.04712   0.01204  0.006088        19       640: 100% 42/42 [03:31<00:00,  5.03s/it]\n",
      "               Class     Images     Labels          P          R     mAP@.5 mAP@.5:.95: 100% 21/21 [00:39<00:00,  1.90s/it]\n",
      "                 all        671        585      0.726      0.595      0.631      0.303\n",
      "\n",
      "     Epoch   gpu_mem       box       obj       cls    labels  img_size\n",
      "     27/29     9.05G   0.04618   0.01161  0.004345        13       640: 100% 42/42 [03:31<00:00,  5.03s/it]\n",
      "               Class     Images     Labels          P          R     mAP@.5 mAP@.5:.95: 100% 21/21 [00:40<00:00,  1.91s/it]\n",
      "                 all        671        585      0.633       0.69      0.655      0.284\n",
      "\n",
      "     Epoch   gpu_mem       box       obj       cls    labels  img_size\n",
      "     28/29     9.05G    0.0439   0.01052  0.003784        19       640: 100% 42/42 [03:31<00:00,  5.03s/it]\n",
      "               Class     Images     Labels          P          R     mAP@.5 mAP@.5:.95: 100% 21/21 [00:40<00:00,  1.91s/it]\n",
      "                 all        671        585       0.72      0.748      0.705      0.369\n",
      "\n",
      "     Epoch   gpu_mem       box       obj       cls    labels  img_size\n",
      "     29/29     9.05G   0.04294   0.01012  0.004405        26       640: 100% 42/42 [03:30<00:00,  5.02s/it]\n",
      "               Class     Images     Labels          P          R     mAP@.5 mAP@.5:.95: 100% 21/21 [00:39<00:00,  1.90s/it]\n",
      "                 all        671        585      0.712      0.736      0.717      0.378\n",
      "\n",
      "30 epochs completed in 2.167 hours.\n",
      "Optimizer stripped from runs/train/hel_results24/weights/last.pt, 92.9MB\n",
      "Optimizer stripped from runs/train/hel_results24/weights/best.pt, 92.9MB\n",
      "\n",
      "Validating runs/train/hel_results24/weights/best.pt...\n",
      "Fusing layers... \n",
      "Model Summary: 367 layers, 46113663 parameters, 0 gradients\n",
      "               Class     Images     Labels          P          R     mAP@.5 mAP@.5:.95: 100% 21/21 [00:45<00:00,  2.16s/it]\n",
      "                 all        671        585      0.712      0.735      0.717      0.379\n",
      "              helmet        671        489      0.726      0.814      0.791      0.401\n",
      "            wohelmet        671         96      0.698      0.656      0.643      0.356\n",
      "Results saved to \u001b[1mruns/train/hel_results24\u001b[0m\n"
     ]
    }
   ],
   "source": [
    "!python train.py --img 640 --batch 16 --epochs 30 --data /content/drive/MyDrive/proj_traffic/helmet/data.yaml --cfg /content/drive/MyDrive/proj_traffic/yolov5/models/yolov5l.yaml --weights yolov5l.pt --name hel_results2 --device 0"
   ]
  },
  {
   "cell_type": "code",
   "execution_count": null,
   "metadata": {
    "colab": {
     "base_uri": "https://localhost:8080/"
    },
    "id": "HG5x-kSmC8eH",
    "outputId": "4a7f6f63-1990-4806-d6b8-850a0df2f68c"
   },
   "outputs": [
    {
     "name": "stdout",
     "output_type": "stream",
     "text": [
      "\u001b[34m\u001b[1mdetect: \u001b[0mweights=['/content/drive/MyDrive/proj_traffic/yolov5/runs/train/hel_results12/weights/best.pt'], source=/content/drive/MyDrive/proj_traffic/helmet/test/orginal, imgsz=[640, 640], conf_thres=0.3, iou_thres=0.45, max_det=1000, device=, view_img=False, save_txt=False, save_conf=False, save_crop=False, nosave=False, classes=None, agnostic_nms=False, augment=False, visualize=False, update=False, project=runs/detect, name=exp, exist_ok=False, line_thickness=3, hide_labels=False, hide_conf=False, half=False, dnn=False\n",
      "YOLOv5 🚀 v6.0-108-g53349da torch 1.10.0+cu111 CUDA:0 (Tesla P100-PCIE-16GB, 16281MiB)\n",
      "\n",
      "Fusing layers... \n",
      "Model Summary: 213 layers, 7015519 parameters, 0 gradients\n",
      "image 1/8 /content/drive/.shortcut-targets-by-id/1OaUhkEShiJYpNLo0SEHsIjCoctNmch5Q/proj_traffic/helmet/test/orginal/T000025_000_1_2_313.jpg: 608x640 Done. (0.011s)\n",
      "image 2/8 /content/drive/.shortcut-targets-by-id/1OaUhkEShiJYpNLo0SEHsIjCoctNmch5Q/proj_traffic/helmet/test/orginal/T000025_000_1_2_329.jpg: 640x640 Done. (0.008s)\n",
      "image 3/8 /content/drive/.shortcut-targets-by-id/1OaUhkEShiJYpNLo0SEHsIjCoctNmch5Q/proj_traffic/helmet/test/orginal/T000025_000_1_2_36.jpg: 608x640 Done. (0.008s)\n",
      "image 4/8 /content/drive/.shortcut-targets-by-id/1OaUhkEShiJYpNLo0SEHsIjCoctNmch5Q/proj_traffic/helmet/test/orginal/T000042_000_1_2_311.jpg: 640x640 Done. (0.008s)\n",
      "image 5/8 /content/drive/.shortcut-targets-by-id/1OaUhkEShiJYpNLo0SEHsIjCoctNmch5Q/proj_traffic/helmet/test/orginal/T000042_000_1_2_327.jpg: 640x320 Done. (0.013s)\n",
      "image 6/8 /content/drive/.shortcut-targets-by-id/1OaUhkEShiJYpNLo0SEHsIjCoctNmch5Q/proj_traffic/helmet/test/orginal/T000042_000_1_2_352.jpg: 608x640 Done. (0.008s)\n",
      "image 7/8 /content/drive/.shortcut-targets-by-id/1OaUhkEShiJYpNLo0SEHsIjCoctNmch5Q/proj_traffic/helmet/test/orginal/T000043_000_1_2_310.jpg: 640x512 Done. (0.011s)\n",
      "image 8/8 /content/drive/.shortcut-targets-by-id/1OaUhkEShiJYpNLo0SEHsIjCoctNmch5Q/proj_traffic/helmet/test/orginal/T000043_000_1_2_334.jpg: 640x512 Done. (0.007s)\n",
      "Speed: 0.6ms pre-process, 9.4ms inference, 0.2ms NMS per image at shape (1, 3, 640, 640)\n",
      "Results saved to \u001b[1mruns/detect/exp6\u001b[0m\n"
     ]
    }
   ],
   "source": [
    "!python detect.py --weights /content/drive/MyDrive/proj_traffic/yolov5/runs/train/hel_results12/weights/best.pt --img 640 --conf 0.3 --source /content/drive/MyDrive/proj_traffic/helmet/test/orginal"
   ]
  }
 ],
 "metadata": {
  "accelerator": "GPU",
  "colab": {
   "collapsed_sections": [],
   "machine_shape": "hm",
   "name": "yolo_setup_env",
   "provenance": []
  },
  "kernelspec": {
   "display_name": "Python 3",
   "language": "python",
   "name": "python3"
  },
  "language_info": {
   "codemirror_mode": {
    "name": "ipython",
    "version": 3
   },
   "file_extension": ".py",
   "mimetype": "text/x-python",
   "name": "python",
   "nbconvert_exporter": "python",
   "pygments_lexer": "ipython3",
   "version": "3.8.8"
  }
 },
 "nbformat": 4,
 "nbformat_minor": 1
}
